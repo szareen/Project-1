{
 "cells": [
  {
   "cell_type": "code",
   "execution_count": 1,
   "metadata": {},
   "outputs": [
    {
     "data": {
      "text/html": [
       "<script>requirejs.config({paths: { 'plotly': ['https://cdn.plot.ly/plotly-latest.min']},});if(!window.Plotly) {{require(['plotly'],function(plotly) {window.Plotly=plotly;});}}</script>"
      ],
      "text/vnd.plotly.v1+html": [
       "<script>requirejs.config({paths: { 'plotly': ['https://cdn.plot.ly/plotly-latest.min']},});if(!window.Plotly) {{require(['plotly'],function(plotly) {window.Plotly=plotly;});}}</script>"
      ]
     },
     "metadata": {},
     "output_type": "display_data"
    },
    {
     "data": {
      "text/html": [
       "<script>requirejs.config({paths: { 'plotly': ['https://cdn.plot.ly/plotly-latest.min']},});if(!window.Plotly) {{require(['plotly'],function(plotly) {window.Plotly=plotly;});}}</script>"
      ],
      "text/vnd.plotly.v1+html": [
       "<script>requirejs.config({paths: { 'plotly': ['https://cdn.plot.ly/plotly-latest.min']},});if(!window.Plotly) {{require(['plotly'],function(plotly) {window.Plotly=plotly;});}}</script>"
      ]
     },
     "metadata": {},
     "output_type": "display_data"
    }
   ],
   "source": [
    "%matplotlib notebook \n",
    "import pandas as pd \n",
    "import matplotlib.pyplot as plt \n",
    "import numpy as np \n",
    "Apple = \"Resources/AppleStore.csv\"\n",
    "Google = \"Resources/googleplaystore.csv\"\n",
    "\n",
    "import seaborn as sns\n",
    "color = sns.color_palette()\n",
    "sns.set(rc={'figure.figsize':(25,15)})\n",
    "\n",
    "import plotly\n",
    "plotly.offline.init_notebook_mode(connected=True)\n",
    "import plotly.graph_objs as go\n",
    "import plotly.figure_factory as ff\n",
    "import cufflinks as cf\n",
    "\n",
    "\n",
    "import warnings\n",
    "warnings.filterwarnings('ignore')\n",
    "import plotly\n",
    "plotly.offline.init_notebook_mode(connected=True)\n",
    "import plotly.graph_objs as go\n",
    "import plotly.figure_factory as ff\n",
    "import cufflinks as cf\n",
    "\n",
    "\n",
    "import warnings\n",
    "warnings.filterwarnings('ignore')"
   ]
  },
  {
   "cell_type": "code",
   "execution_count": 2,
   "metadata": {},
   "outputs": [],
   "source": [
    "Apple = pd.read_csv(Apple)\n",
    "Google = pd.read_csv(Google)\n",
    "#Apple_Clean = Apple[[\"track_name\", \"price\" ,\"rating_count_tot\", \"user_rating\", \"prime_genre\"]]\n",
    "#Google_Clean = Google[[\"App\", \"Category\", \"Rating\", \"Reviews\", \"Type\", \"Price\", \"Genres\"]]"
   ]
  },
  {
   "cell_type": "code",
   "execution_count": 9,
   "metadata": {},
   "outputs": [],
   "source": [
    "google = Google[[\"App\",\"Category\",\"Rating\",\"Reviews\",\"Size\",\"Installs\",\"Type\",\"Price\",\"Genres\"]]\n",
    "\n",
    "google[\"Size\"] = google[\"Size\"].replace({\"M\":\"\"}, regex=True)\n",
    "google[\"Price\"] = google[\"Price\"].replace({\"\\$\":\"\"}, regex=True)\n",
    "google = google.drop(10472)\n",
    "google[\"Price\"] = pd.to_numeric(google[\"Price\"]).map(\"{:.1f}\".format)\n",
    "google = google.rename(columns={\"Size\":\"Size (M)\"})\n",
    "google[\"Category\"] = google[\"Category\"].str.title()\n",
    "google[\"Category\"] = google[\"Category\"].replace({\"_And_\":\" & \",\"_\":\" \"},regex=True)\n",
    "google = google.reset_index(drop=True)"
   ]
  },
  {
   "cell_type": "code",
   "execution_count": 10,
   "metadata": {},
   "outputs": [],
   "source": [
    "apple = Apple[[\"track_name\",\"size_bytes\",\"price\",\"rating_count_tot\",\"user_rating\",\"prime_genre\"]]\n",
    "\n",
    "apple = apple.rename(columns = {\"track_name\":\"App\",\"rating_count_tot\":\"Rating Count\",\n",
    "                                          \"user_rating\":\"Rating\",\"prime_genre\":\"Genres\",\"price\":\"Price\"})\n",
    "apple[\"Size (M)\"] = (apple[\"size_bytes\"]*(1e-6)).map(\"{:.1f}\".format)\n",
    "apple = apple.drop(columns = \"size_bytes\")\n",
    "apple[\"Type\"]=\"\"\n",
    "apple.loc[apple[\"Price\"]==0,[\"Type\"]]=\"Free\"\n",
    "apple.loc[apple[\"Type\"]==\"\",[\"Type\"]]=\"Paid\""
   ]
  },
  {
   "cell_type": "code",
   "execution_count": 11,
   "metadata": {},
   "outputs": [],
   "source": [
    "google[\"New Genres\"]=\"\"\n",
    "google.loc[google[\"Category\"]==\"Game\",[\"New Genres\"]]=\"Games\"\n",
    "\n",
    "google.loc[(google[\"Category\"]==\"Education\")|\n",
    "           (google[\"Category\"]==\"Books & Reference\")|\n",
    "           (google[\"Category\"]==\"Libraries & Demo\"),[\"New Genres\"]]=\"Education\"\n",
    "\n",
    "google.loc[(google[\"Category\"]==\"Entertainment\")|\n",
    "           (google[\"Category\"]==\"Events\")|\n",
    "           (google[\"Category\"]==\"Social\")|\n",
    "           (google[\"Category\"]==\"Sports\")|\n",
    "           (google[\"Category\"]==\"News & Magazines\"),[\"New Genres\"]]=\"Entertainment\"\n",
    "\n",
    "google.loc[(google[\"Category\"]==\"Video Players\")|\n",
    "           (google[\"Category\"]==\"Photography\"),[\"New Genres\"]]=\"Photo & Video\"\n",
    "\n",
    "google.loc[(google[\"Category\"]==\"Tools\")|\n",
    "           (google[\"Category\"]==\"Communication\")|\n",
    "           (google[\"Category\"]==\"Personalization\")|\n",
    "           (google[\"Category\"]==\"Weather\")|\n",
    "           (google[\"Category\"]==\"Maps & Navigation\")|\n",
    "           (google[\"Category\"]==\"Finance\"),[\"New Genres\"]]=\"Utilities\"\n",
    "\n",
    "google.loc[(google[\"Category\"]==\"Productivity\")|\n",
    "           (google[\"Category\"]==\"Art & Design\")|\n",
    "           (google[\"Category\"]==\"Business\"),[\"New Genres\"]]=\"Productivity\"\n",
    "\n",
    "google.loc[(google[\"Category\"]==\"Health & Fitness\")|\n",
    "           (google[\"Category\"]==\"Medical\"),[\"New Genres\"]]=\"Health & Fitness\""
   ]
  },
  {
   "cell_type": "code",
   "execution_count": 12,
   "metadata": {},
   "outputs": [],
   "source": [
    "categories = [\"Education\", \"Entertainment\", \"Health & Fitness\", \"Games\", \"Productivity\", \"Photo & Video\", \"Utilities\"]\n",
    "games = google.loc[google[\"New Genres\"]==\"Games\"][\"Genres\"]\n",
    "\n",
    "family = google.loc[google[\"Category\"]==\"Family\"][\"Genres\"].str.split(\";\", expand=True)[0].to_frame()\n",
    "\n",
    "family[0] = family[0].replace({\"Educational\":\"Education\"})\n",
    "\n",
    "for index, row in family.iterrows():\n",
    "    if row.isin(categories).any():\n",
    "        google.iloc[index,8]=row[0]\n",
    "    elif row.isin(games).any():\n",
    "        google.iloc[index,8]=\"Games\"\n",
    "    elif row[0] == \"Art & Design\":\n",
    "        google.iloc[index,8]=\"Productivity\"\n",
    "    elif row[0] == \"Video Players & Editors\":\n",
    "        google.iloc[index,8]=\"Photo & Video\"\n",
    "    elif row[0] == \"Communication\":\n",
    "        google.iloc[index,8]=\"Utilities\"\n",
    "    elif row[0] == \"Books & Reference\":\n",
    "        google.iloc[index,8]=\"Education\"\n",
    "\n",
    "google.loc[google[\"New Genres\"]==\"\",[\"New Genres\"]]=\"Other\"\n",
    "\n",
    "google_cat = google.groupby(\"New Genres\").count().sort_values(\"App\",ascending=False)"
   ]
  },
  {
   "cell_type": "code",
   "execution_count": 13,
   "metadata": {},
   "outputs": [],
   "source": [
    "apple[\"New Genres\"]=\"\"\n",
    "apple.loc[apple[\"Genres\"]==\"Games\",[\"New Genres\"]]=\"Games\"\n",
    "\n",
    "apple.loc[(apple[\"Genres\"]==\"Education\")|\n",
    "          (apple[\"Genres\"]==\"Book\")|\n",
    "          (apple[\"Genres\"]==\"Reference\"),[\"New Genres\"]]=\"Education\"\n",
    "\n",
    "apple.loc[(apple[\"Genres\"]==\"Entertainment\")|\n",
    "          (apple[\"Genres\"]==\"Social Networking\")|\n",
    "          (apple[\"Genres\"]==\"Sports\")|\n",
    "          (apple[\"Genres\"]==\"News\"),[\"New Genres\"]]=\"Entertainment\"\n",
    "\n",
    "apple.loc[apple[\"Genres\"]==\"Photo & Video\",[\"New Genres\"]]=\"Photo & Video\"\n",
    "apple.loc[(apple[\"Genres\"]==\"Utilities\")|\n",
    "          (apple[\"Genres\"]==\"Weather\")|\n",
    "          (apple[\"Genres\"]==\"Navigation\")|\n",
    "          (apple[\"Genres\"]==\"Finance\"),[\"New Genres\"]]=\"Utilities\"\n",
    "\n",
    "apple.loc[(apple[\"Genres\"]==\"Productivity\")|\n",
    "          (apple[\"Genres\"]==\"Business\"),[\"New Genres\"]]=\"Productivity\"\n",
    "\n",
    "apple.loc[(apple[\"Genres\"]==\"Health & Fitness\")|\n",
    "          (apple[\"Genres\"]==\"Medical\"),[\"New Genres\"]]=\"Health & Fitness\"\n",
    "\n",
    "apple.loc[apple[\"New Genres\"]==\"\",[\"New Genres\"]]=\"Other\"\n",
    "\n",
    "apple_cat = apple.groupby(\"New Genres\").count().sort_values(\"App\",ascending=False)"
   ]
  },
  {
   "cell_type": "code",
   "execution_count": 14,
   "metadata": {},
   "outputs": [
    {
     "data": {
      "text/html": [
       "<div>\n",
       "<style scoped>\n",
       "    .dataframe tbody tr th:only-of-type {\n",
       "        vertical-align: middle;\n",
       "    }\n",
       "\n",
       "    .dataframe tbody tr th {\n",
       "        vertical-align: top;\n",
       "    }\n",
       "\n",
       "    .dataframe thead th {\n",
       "        text-align: right;\n",
       "    }\n",
       "</style>\n",
       "<table border=\"1\" class=\"dataframe\">\n",
       "  <thead>\n",
       "    <tr style=\"text-align: right;\">\n",
       "      <th></th>\n",
       "      <th>App</th>\n",
       "      <th>Category</th>\n",
       "      <th>Rating</th>\n",
       "      <th>Reviews</th>\n",
       "      <th>Size (M)</th>\n",
       "      <th>Installs</th>\n",
       "      <th>Type</th>\n",
       "      <th>Price</th>\n",
       "      <th>Genres</th>\n",
       "      <th>New Genres</th>\n",
       "    </tr>\n",
       "  </thead>\n",
       "  <tbody>\n",
       "    <tr>\n",
       "      <th>0</th>\n",
       "      <td>Photo Editor &amp; Candy Camera &amp; Grid &amp; ScrapBook</td>\n",
       "      <td>Art &amp; Design</td>\n",
       "      <td>4.1</td>\n",
       "      <td>159</td>\n",
       "      <td>19</td>\n",
       "      <td>10,000+</td>\n",
       "      <td>Free</td>\n",
       "      <td>0.0</td>\n",
       "      <td>Art &amp; Design</td>\n",
       "      <td>Productivity</td>\n",
       "    </tr>\n",
       "    <tr>\n",
       "      <th>1</th>\n",
       "      <td>Coloring book moana</td>\n",
       "      <td>Art &amp; Design</td>\n",
       "      <td>3.9</td>\n",
       "      <td>967</td>\n",
       "      <td>14</td>\n",
       "      <td>500,000+</td>\n",
       "      <td>Free</td>\n",
       "      <td>0.0</td>\n",
       "      <td>Art &amp; Design;Pretend Play</td>\n",
       "      <td>Productivity</td>\n",
       "    </tr>\n",
       "    <tr>\n",
       "      <th>2</th>\n",
       "      <td>U Launcher Lite – FREE Live Cool Themes, Hide ...</td>\n",
       "      <td>Art &amp; Design</td>\n",
       "      <td>4.7</td>\n",
       "      <td>87510</td>\n",
       "      <td>8.7</td>\n",
       "      <td>5,000,000+</td>\n",
       "      <td>Free</td>\n",
       "      <td>0.0</td>\n",
       "      <td>Art &amp; Design</td>\n",
       "      <td>Productivity</td>\n",
       "    </tr>\n",
       "    <tr>\n",
       "      <th>3</th>\n",
       "      <td>Sketch - Draw &amp; Paint</td>\n",
       "      <td>Art &amp; Design</td>\n",
       "      <td>4.5</td>\n",
       "      <td>215644</td>\n",
       "      <td>25</td>\n",
       "      <td>50,000,000+</td>\n",
       "      <td>Free</td>\n",
       "      <td>0.0</td>\n",
       "      <td>Art &amp; Design</td>\n",
       "      <td>Productivity</td>\n",
       "    </tr>\n",
       "    <tr>\n",
       "      <th>4</th>\n",
       "      <td>Pixel Draw - Number Art Coloring Book</td>\n",
       "      <td>Art &amp; Design</td>\n",
       "      <td>4.3</td>\n",
       "      <td>967</td>\n",
       "      <td>2.8</td>\n",
       "      <td>100,000+</td>\n",
       "      <td>Free</td>\n",
       "      <td>0.0</td>\n",
       "      <td>Art &amp; Design;Creativity</td>\n",
       "      <td>Productivity</td>\n",
       "    </tr>\n",
       "  </tbody>\n",
       "</table>\n",
       "</div>"
      ],
      "text/plain": [
       "                                                 App      Category  Rating  \\\n",
       "0     Photo Editor & Candy Camera & Grid & ScrapBook  Art & Design     4.1   \n",
       "1                                Coloring book moana  Art & Design     3.9   \n",
       "2  U Launcher Lite – FREE Live Cool Themes, Hide ...  Art & Design     4.7   \n",
       "3                              Sketch - Draw & Paint  Art & Design     4.5   \n",
       "4              Pixel Draw - Number Art Coloring Book  Art & Design     4.3   \n",
       "\n",
       "  Reviews Size (M)     Installs  Type Price                     Genres  \\\n",
       "0     159       19      10,000+  Free   0.0               Art & Design   \n",
       "1     967       14     500,000+  Free   0.0  Art & Design;Pretend Play   \n",
       "2   87510      8.7   5,000,000+  Free   0.0               Art & Design   \n",
       "3  215644       25  50,000,000+  Free   0.0               Art & Design   \n",
       "4     967      2.8     100,000+  Free   0.0    Art & Design;Creativity   \n",
       "\n",
       "     New Genres  \n",
       "0  Productivity  \n",
       "1  Productivity  \n",
       "2  Productivity  \n",
       "3  Productivity  \n",
       "4  Productivity  "
      ]
     },
     "execution_count": 14,
     "metadata": {},
     "output_type": "execute_result"
    }
   ],
   "source": [
    "google.head()"
   ]
  },
  {
   "cell_type": "code",
   "execution_count": 17,
   "metadata": {},
   "outputs": [],
   "source": [
    "# - Installs : Remove + and ,\n",
    "\n",
    "google['Installs'] = google['Installs'].apply(lambda x: x.replace('+', '') if '+' in str(x) else x)\n",
    "google['Installs'] = google['Installs'].apply(lambda x: x.replace(',', '') if ',' in str(x) else x)\n",
    "google['Installs'] = google['Installs'].apply(lambda x: int(x))\n",
    "\n",
    "#changing the price\n",
    "google[\"Price\"] = google[google.columns[7]].replace(\"[\\$,]\", \"\", regex=True).astype(float)"
   ]
  },
  {
   "cell_type": "code",
   "execution_count": 18,
   "metadata": {},
   "outputs": [],
   "source": [
    "bins = [-0.1, 0.0, 1.00, 3.00, 4.00, 5.00, 10.00, 20.00, 50.00, 100.00, 1000.00]\n",
    "group_labels = [\"Free\", \"<$1\", \"$1-3\", \"$3-4\", \"$4-5\",\n",
    "                \"$5-10\", \"$10-20\", \"$20-50\", \"$50-100\", \"100+\"]\n",
    "apple[\"Price Category\"] = pd.cut(apple[\"Price\"], bins=bins, labels=group_labels, right=True)\n",
    "google[\"Price Category\"] =  pd.cut(google[\"Price\"], bins=bins, labels=group_labels, right=True)"
   ]
  },
  {
   "cell_type": "code",
   "execution_count": 19,
   "metadata": {},
   "outputs": [],
   "source": [
    "apple = apple[apple[\"Price Category\"] != \"100+\"]\n",
    "google = google[google[\"Price Category\"] != \"100+\"]\n",
    "apple = apple[apple[\"Price Category\"] != \"$50-100\"]\n",
    "google = google[google[\"Price Category\"] != \"$50-100\"]"
   ]
  },
  {
   "cell_type": "code",
   "execution_count": 32,
   "metadata": {},
   "outputs": [],
   "source": [
    "apple.to_csv(\"Resources/Apple_Data.csv\", encoding='utf-8')"
   ]
  },
  {
   "cell_type": "code",
   "execution_count": 33,
   "metadata": {},
   "outputs": [],
   "source": [
    "google.to_csv(\"Resources/Google_Data.csv\", encoding='utf-8')"
   ]
  },
  {
   "cell_type": "code",
   "execution_count": 34,
   "metadata": {},
   "outputs": [],
   "source": [
    "google_cat.to_csv(\"Resources/Google_cat.csv\", encoding='utf-8')"
   ]
  },
  {
   "cell_type": "code",
   "execution_count": 35,
   "metadata": {},
   "outputs": [],
   "source": [
    "apple_cat.to_csv(\"Resources/Apple_cat.csv\", encoding='utf-8')"
   ]
  },
  {
   "cell_type": "code",
   "execution_count": null,
   "metadata": {},
   "outputs": [],
   "source": []
  }
 ],
 "metadata": {
  "kernelspec": {
   "display_name": "Python 3",
   "language": "python",
   "name": "python3"
  },
  "language_info": {
   "codemirror_mode": {
    "name": "ipython",
    "version": 3
   },
   "file_extension": ".py",
   "mimetype": "text/x-python",
   "name": "python",
   "nbconvert_exporter": "python",
   "pygments_lexer": "ipython3",
   "version": "3.6.5"
  }
 },
 "nbformat": 4,
 "nbformat_minor": 2
}
